{
 "cells": [
  {
   "cell_type": "code",
   "execution_count": null,
   "metadata": {},
   "outputs": [],
   "source": [
    "%load_ext autoreload\n",
    "%autoreload 2\n",
    "\n",
    "from collections import Counter\n",
    "import numpy as np\n",
    "import networkx as nx\n",
    "import matplotlib.pyplot as plt\n",
    "from matplotlib.animation import FuncAnimation\n",
    "import EoN\n",
    "import utils\n",
    "import json\n",
    "import glob\n",
    "import seaborn as sns"
   ]
  },
  {
   "cell_type": "markdown",
   "metadata": {},
   "source": [
    "# Path for data and results"
   ]
  },
  {
   "cell_type": "code",
   "execution_count": null,
   "metadata": {},
   "outputs": [],
   "source": [
    "RES_DIR = \"../data/res-sir-sim\"\n",
    "BASE_NET = \"{root}/base-network.edgelist\".format(root=RES_DIR)\n",
    "RES_SIM = \"{root}/res-sir-simulation.json\".format(root=RES_DIR)\n",
    "t_contact_tracing = 1"
   ]
  },
  {
   "cell_type": "markdown",
   "metadata": {},
   "source": [
    "# Base network"
   ]
  },
  {
   "cell_type": "code",
   "execution_count": null,
   "metadata": {},
   "outputs": [],
   "source": [
    "G = nx.read_edgelist(BASE_NET)"
   ]
  },
  {
   "cell_type": "code",
   "execution_count": null,
   "metadata": {},
   "outputs": [],
   "source": [
    "avg_deg = EoN.get_PGFPrime(EoN.get_Pk(G))(1)\n",
    "avg_ex_deg = EoN.get_PGFDPrime(EoN.get_Pk(G))(1) / EoN.get_PGFPrime(EoN.get_Pk(G))(1)\n",
    "\n",
    "pk = dict(sorted(EoN.get_Pk(G).items()))\n",
    "qk = dict((k - 1, k * p / avg_deg) for k, p in pk.items())\n",
    "rk = dict((k - 2, k * (k - 1) * p / (avg_deg * avg_ex_deg)) for k, p in pk.items())\n",
    "ccdfs = list(map(utils.ccdf_from_pk, [pk, qk, rk]))"
   ]
  },
  {
   "cell_type": "markdown",
   "metadata": {},
   "source": [
    "# Retrieve the results for simulations "
   ]
  },
  {
   "cell_type": "code",
   "execution_count": null,
   "metadata": {},
   "outputs": [],
   "source": [
    "resfile_list = glob.glob(\"{root}/res-sir-simulation-*.json\".format(root=RES_DIR))\n",
    "\n",
    "infected = []\n",
    "infected_sampled = []\n",
    "parents = []\n",
    "to_be_traced_all = []\n",
    "to_be_traced_25 = []\n",
    "to_be_traced_10 = []\n",
    "for resfile in resfile_list:\n",
    "    with open(resfile, \"r\") as f:\n",
    "        result = json.load(f)\n",
    "    infected += [G.degree(x) for x in result[\"infected\"]]\n",
    "    infected_sampled += [G.degree(x) for x in result[\"infected_sampled\"]]\n",
    "    parents += [G.degree(x) for x in result[\"parents\"]]\n",
    "    to_be_traced = Counter(result[\"to_be_traced\"])\n",
    "    to_be_traced_all += [G.degree(x) for x in to_be_traced.keys()]\n",
    "    to_be_traced_25 += [G.degree(x[0]) for x in to_be_traced.most_common(25)]\n",
    "    to_be_traced_10 += [G.degree(x[0]) for x in to_be_traced.most_common(10)]\n",
    "\n",
    "infected_ccdf = utils.ccdf_from_data(infected)\n",
    "parents_ccdf = utils.ccdf_from_data(parents)\n",
    "traced_ccdf = utils.ccdf_from_data(to_be_traced_all)\n",
    "traced25_ccdf = utils.ccdf_from_data(to_be_traced_25)\n",
    "traced10_ccdf = utils.ccdf_from_data(to_be_traced_10)"
   ]
  },
  {
   "cell_type": "markdown",
   "metadata": {},
   "source": [
    "# Plot results"
   ]
  },
  {
   "cell_type": "code",
   "execution_count": null,
   "metadata": {},
   "outputs": [],
   "source": [
    "cmap = sns.color_palette(\"Set1\").as_hex()\n",
    "\n",
    "plot_kwargs_for_base_ccdfs = [\n",
    "    {\"label\": r\"$G_0(x)~ (\\sim p_k$)\", \"color\": (0, 0, 0), \"linewidth\": 0.7},\n",
    "    {\"label\": r\"$G_1(x)~ (\\sim k p_k$)\", \"color\": (0.5, 0.5, 0.5), \"linewidth\": 0.7},\n",
    "    {\n",
    "        \"label\": r\"$G_2(x)~ (\\sim k(k-1) p_k)$\",\n",
    "        \"color\": (0.7, 0.7, 0.7),\n",
    "        \"linewidth\": 0.7,\n",
    "    },\n",
    "]\n",
    "\n",
    "sns.set_style(\"white\")\n",
    "sns.set(font_scale=1)\n",
    "sns.set_style(\"ticks\")\n",
    "fig, (ax1, ax2) = plt.subplots(1, 2, figsize=(6.49, 4.18), sharey=True)\n",
    "\n",
    "utils.loglog_plot(\n",
    "    ccdfs + [infected_ccdf, parents_ccdf],\n",
    "    kwargs_list=plot_kwargs_for_base_ccdfs\n",
    "    + [\n",
    "        {\"label\": r\"Infected ($t={:.1f}$)\".format(t_contact_tracing), \"color\": cmap[1]},\n",
    "        {\n",
    "            \"label\": r\"Sampled parents ($t={:.1f}$)\".format(t_contact_tracing),\n",
    "            \"color\": cmap[0],\n",
    "        },\n",
    "    ],\n",
    "    xlabel=r\"$k$\",\n",
    "    ylabel=\"CCDF\",\n",
    "    ax=ax1,\n",
    ")\n",
    "\n",
    "utils.loglog_plot(\n",
    "    ccdfs + [infected_ccdf, traced_ccdf, traced25_ccdf, traced10_ccdf],\n",
    "    kwargs_list=[\n",
    "        {\"color\": (0, 0, 0), \"linewidth\": 0.7},\n",
    "        {\"color\": (0.5, 0.5, 0.5), \"linewidth\": 0.7},\n",
    "        {\"color\": (0.7, 0.7, 0.7), \"linewidth\": 0.7},\n",
    "        {\"label\": r\"Infected\".format(t_contact_tracing), \"color\": cmap[1]},\n",
    "        {\"label\": r\"Traced, all\", \"color\": \"{col}77\".format(col=cmap[0]), \"ls\": \":\"},\n",
    "        {\n",
    "            \"label\": r\"Traced, top 25\",\n",
    "            \"color\": \"{col}aa\".format(col=cmap[0]),\n",
    "            \"ls\": \"--\",\n",
    "        },\n",
    "        {\"label\": r\"Traced, top 10\", \"color\": \"{col}ff\".format(col=cmap[0]), \"ls\": \"-\"},\n",
    "    ],\n",
    "    xlabel=r\"$k$\",\n",
    "    ylabel=None,\n",
    "    ax=ax2,\n",
    ")\n",
    "\n",
    "ax1.annotate(\n",
    "    \"a\",\n",
    "    xy=(0.15, 0.87),\n",
    "    xycoords=\"figure fraction\",\n",
    "    horizontalalignment=\"left\",\n",
    "    verticalalignment=\"top\",\n",
    "    fontsize=25,\n",
    ")\n",
    "ax2.annotate(\n",
    "    \"b\",\n",
    "    xy=(0.6, 0.87),\n",
    "    xycoords=\"figure fraction\",\n",
    "    horizontalalignment=\"left\",\n",
    "    verticalalignment=\"top\",\n",
    "    fontsize=25,\n",
    ")\n",
    "\n",
    "\n",
    "plt.tight_layout()\n",
    "plt.savefig(\"fig2-v2.pdf\", dpi=300, bbox_inches=\"tight\")"
   ]
  }
 ],
 "metadata": {
  "kernelspec": {
   "display_name": "ctrace",
   "language": "python",
   "name": "myenv"
  },
  "language_info": {
   "codemirror_mode": {
    "name": "ipython",
    "version": 3
   },
   "file_extension": ".py",
   "mimetype": "text/x-python",
   "name": "python",
   "nbconvert_exporter": "python",
   "pygments_lexer": "ipython3",
   "version": "3.8.2"
  }
 },
 "nbformat": 4,
 "nbformat_minor": 4
}
